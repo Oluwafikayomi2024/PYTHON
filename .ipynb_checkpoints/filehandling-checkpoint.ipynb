{
 "cells": [
  {
   "cell_type": "code",
   "execution_count": 8,
   "id": "429147a4-ad18-4bc9-a2c0-b4d3f9c49825",
   "metadata": {},
   "outputs": [],
   "source": [
    "import numpy as np\n"
   ]
  },
  {
   "cell_type": "code",
   "execution_count": 27,
   "id": "fbaac27f-3686-4229-b32a-1a95bc1cc997",
   "metadata": {},
   "outputs": [],
   "source": [
    "# Step 1: Open the CSV file using the open() function\n",
    "file_path = 'file handling excel.csv'\n",
    "data = np.genfromtxt('file handling excel.csv', delimiter=',', skip_header=1, usecols=8)\n",
    "data = data[~np.isnan(data)]"
   ]
  },
  {
   "cell_type": "code",
   "execution_count": 28,
   "id": "efa85d36-88f7-4bb4-8a83-c6a471882110",
   "metadata": {},
   "outputs": [
    {
     "name": "stdout",
     "output_type": "stream",
     "text": [
      "Mean Loan Amount: 146.41216216216216\n"
     ]
    }
   ],
   "source": [
    "# Step 3: Perform basic statistical analysis\n",
    "mean_loan = np.mean(data)\n",
    "print(f\"Mean Loan Amount: {mean_loan}\")\n"
   ]
  },
  {
   "cell_type": "code",
   "execution_count": 29,
   "id": "5cecf197-e447-4213-9bf5-76c027557485",
   "metadata": {},
   "outputs": [
    {
     "name": "stdout",
     "output_type": "stream",
     "text": [
      "Median Loan Amount: 128.0\n"
     ]
    }
   ],
   "source": [
    "median_loan = np.median(data)\n",
    "print(f\"Median Loan Amount: {median_loan}\")"
   ]
  },
  {
   "cell_type": "code",
   "execution_count": 30,
   "id": "1545b3b0-c3ed-4b8d-bc78-d7251293bdca",
   "metadata": {},
   "outputs": [
    {
     "name": "stdout",
     "output_type": "stream",
     "text": [
      "Standard Deviation of Loan Amounts: 85.51500809120331\n"
     ]
    }
   ],
   "source": [
    "std_dev_loan = np.std(data)\n",
    "print(f\"Standard Deviation of Loan Amounts: {std_dev_loan}\")"
   ]
  },
  {
   "cell_type": "code",
   "execution_count": null,
   "id": "cfbb4bcd-8982-4d71-822b-c4965c7d282e",
   "metadata": {},
   "outputs": [],
   "source": []
  }
 ],
 "metadata": {
  "kernelspec": {
   "display_name": "Python 3 (ipykernel)",
   "language": "python",
   "name": "python3"
  },
  "language_info": {
   "codemirror_mode": {
    "name": "ipython",
    "version": 3
   },
   "file_extension": ".py",
   "mimetype": "text/x-python",
   "name": "python",
   "nbconvert_exporter": "python",
   "pygments_lexer": "ipython3",
   "version": "3.12.7"
  }
 },
 "nbformat": 4,
 "nbformat_minor": 5
}
