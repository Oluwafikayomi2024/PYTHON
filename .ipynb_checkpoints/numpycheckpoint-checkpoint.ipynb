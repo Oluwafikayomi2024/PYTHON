{
 "cells": [
  {
   "cell_type": "code",
   "execution_count": 1,
   "id": "62a3a52b-a6a9-479c-a527-b8e7979574ca",
   "metadata": {},
   "outputs": [],
   "source": [
    "import numpy as np"
   ]
  },
  {
   "cell_type": "code",
   "execution_count": 25,
   "id": "7b35cefb-b234-4238-be78-c123129e56a3",
   "metadata": {},
   "outputs": [
    {
     "name": "stdout",
     "output_type": "stream",
     "text": [
      "[85 90 88 92 95 80 75 98 89 83]\n"
     ]
    }
   ],
   "source": [
    "# Create the \"grades\" array\n",
    "grades = np.array([85, 90, 88, 92, 95, 80, 75, 98, 89, 83])\n",
    "print(grades)"
   ]
  },
  {
   "cell_type": "code",
   "execution_count": 12,
   "id": "a9773710-86b8-4d1f-8386-718bee841ff7",
   "metadata": {},
   "outputs": [
    {
     "name": "stdout",
     "output_type": "stream",
     "text": [
      "Mean Grade: 87.5\n"
     ]
    }
   ],
   "source": [
    "# 1. Calculate the mean of the grades\n",
    "mean_grade = np.mean(grades)\n",
    "print(f\"Mean Grade: {mean_grade}\")"
   ]
  },
  {
   "cell_type": "code",
   "execution_count": 14,
   "id": "4fbf598f-f978-4f7d-9e0d-ad935ee9343c",
   "metadata": {},
   "outputs": [
    {
     "name": "stdout",
     "output_type": "stream",
     "text": [
      "Median Grade: 88.5\n"
     ]
    }
   ],
   "source": [
    "# 2. Calculate the median of the grades\n",
    "median_grade = np.median(grades)\n",
    "\n",
    "print(f\"Median Grade: {median_grade}\")\n"
   ]
  },
  {
   "cell_type": "code",
   "execution_count": 15,
   "id": "1ce61b84-347e-48e4-8c1e-8472b4ffd513",
   "metadata": {},
   "outputs": [
    {
     "name": "stdout",
     "output_type": "stream",
     "text": [
      "Standard Deviation: 6.591661399070799\n"
     ]
    }
   ],
   "source": [
    "# 3. Calculate the standard deviation of the grades\n",
    "std_deviation = np.std(grades)\n",
    "print(f\"Standard Deviation: {std_deviation}\")\n",
    "\n"
   ]
  },
  {
   "cell_type": "code",
   "execution_count": 16,
   "id": "0792e088-90ba-42fd-ad71-7870dd1baa22",
   "metadata": {},
   "outputs": [
    {
     "name": "stdout",
     "output_type": "stream",
     "text": [
      "Maximum Grade: 98\n"
     ]
    }
   ],
   "source": [
    "# 4. Find the maximum grade\n",
    "max_grade = np.max(grades)\n",
    "print(f\"Maximum Grade: {max_grade}\")\n"
   ]
  },
  {
   "cell_type": "code",
   "execution_count": 17,
   "id": "873af31f-5de0-4c4d-94fb-eaf9558c884e",
   "metadata": {},
   "outputs": [
    {
     "name": "stdout",
     "output_type": "stream",
     "text": [
      "Minimum Grade: 75\n"
     ]
    }
   ],
   "source": [
    "# 5. Find the minimum grade\n",
    "min_grade = np.min(grades)\n",
    "print(f\"Minimum Grade: {min_grade}\")"
   ]
  },
  {
   "cell_type": "code",
   "execution_count": 18,
   "id": "6a4d982f-8ee3-4ede-adc3-3abd29f50dec",
   "metadata": {},
   "outputs": [
    {
     "name": "stdout",
     "output_type": "stream",
     "text": [
      "Sorted Grades: [75 80 83 85 88 89 90 92 95 98]\n"
     ]
    }
   ],
   "source": [
    "# 6. Sort the grades in ascending order\n",
    "sorted_grades = np.sort(grades)\n",
    "print(f\"Sorted Grades: {sorted_grades}\")"
   ]
  },
  {
   "cell_type": "code",
   "execution_count": 19,
   "id": "5d4bfdae-67c8-4092-ba3a-131a61391f56",
   "metadata": {},
   "outputs": [
    {
     "name": "stdout",
     "output_type": "stream",
     "text": [
      "Index of Highest Grade: 7\n"
     ]
    }
   ],
   "source": [
    "# 7. Find the index of the highest grade\n",
    "index_of_max_grade = np.argmax(grades)\n",
    "print(f\"Index of Highest Grade: {index_of_max_grade}\")"
   ]
  },
  {
   "cell_type": "code",
   "execution_count": 20,
   "id": "71ea8ab3-312c-432e-b5b5-6f296b1128d8",
   "metadata": {},
   "outputs": [
    {
     "name": "stdout",
     "output_type": "stream",
     "text": [
      "Number of Students Scored Above 90: 3\n"
     ]
    }
   ],
   "source": [
    "# 8. Count the number of students who scored above 90\n",
    "above_90_count = np.sum(grades > 90)\n",
    "print(f\"Number of Students Scored Above 90: {above_90_count}\")"
   ]
  },
  {
   "cell_type": "code",
   "execution_count": 21,
   "id": "01fbdb51-a803-4dd6-ad7a-005981bf91a5",
   "metadata": {},
   "outputs": [
    {
     "name": "stdout",
     "output_type": "stream",
     "text": [
      "Percentage of Students Scored Above 90: 30.0%\n"
     ]
    }
   ],
   "source": [
    "# 9. Calculate the percentage of students who scored above 90\n",
    "percentage_above_90 = np.mean(grades > 90) * 100\n",
    "print(f\"Percentage of Students Scored Above 90: {percentage_above_90}%\")"
   ]
  },
  {
   "cell_type": "code",
   "execution_count": 22,
   "id": "71daf977-75d0-4bfa-bc64-b1a7623b6870",
   "metadata": {},
   "outputs": [
    {
     "name": "stdout",
     "output_type": "stream",
     "text": [
      "Percentage of Students Scored Below 75: 0.0%\n"
     ]
    }
   ],
   "source": [
    "# 10. Calculate the percentage of students who scored below 75\n",
    "percentage_below_75 = np.mean(grades < 75) * 100\n",
    "print(f\"Percentage of Students Scored Below 75: {percentage_below_75}%\")"
   ]
  },
  {
   "cell_type": "code",
   "execution_count": 23,
   "id": "fb4b291d-8d76-4555-a9de-fc094d0a5624",
   "metadata": {},
   "outputs": [
    {
     "name": "stdout",
     "output_type": "stream",
     "text": [
      "High Performers (Grades Above 90): [92 95 98]\n"
     ]
    }
   ],
   "source": [
    "# 11. Extract all grades above 90 (high performers)\n",
    "high_performers = grades[grades > 90]\n",
    "print(f\"High Performers (Grades Above 90): {high_performers}\")"
   ]
  },
  {
   "cell_type": "code",
   "execution_count": 24,
   "id": "884fa98d-b471-4c61-99da-8847968787be",
   "metadata": {},
   "outputs": [
    {
     "name": "stdout",
     "output_type": "stream",
     "text": [
      "Passing Grades (Grades Above 75): [85 90 88 92 95 80 98 89 83]\n"
     ]
    }
   ],
   "source": [
    "# 12. Extract all grades above 75 (passing grades)\n",
    "passing_grades = grades[grades > 75]\n",
    "print(f\"Passing Grades (Grades Above 75): {passing_grades}\")"
   ]
  },
  {
   "cell_type": "code",
   "execution_count": null,
   "id": "d8edc42c-f71d-4c9a-9d7b-0ba402cac7de",
   "metadata": {},
   "outputs": [],
   "source": []
  }
 ],
 "metadata": {
  "kernelspec": {
   "display_name": "Python 3 (ipykernel)",
   "language": "python",
   "name": "python3"
  },
  "language_info": {
   "codemirror_mode": {
    "name": "ipython",
    "version": 3
   },
   "file_extension": ".py",
   "mimetype": "text/x-python",
   "name": "python",
   "nbconvert_exporter": "python",
   "pygments_lexer": "ipython3",
   "version": "3.12.7"
  }
 },
 "nbformat": 4,
 "nbformat_minor": 5
}
