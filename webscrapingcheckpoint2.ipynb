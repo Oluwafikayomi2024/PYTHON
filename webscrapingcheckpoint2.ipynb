{
 "cells": [
  {
   "cell_type": "code",
   "execution_count": 2,
   "metadata": {},
   "outputs": [],
   "source": [
    "import requests\n",
    "from bs4 import BeautifulSoup\n",
    "import pandas as pd\n"
   ]
  },
  {
   "cell_type": "code",
   "execution_count": 11,
   "metadata": {},
   "outputs": [],
   "source": [
    "# Send a GET request to the website\n",
    "url = 'https://aziza.tn/fr/home'\n",
    "response = requests.get(url)\n",
    "\n",
    "# Parse the HTML content using BeautifulSoup\n",
    "soup = BeautifulSoup(response.content, 'html.parser')\n",
    "\n",
    "# Find all 'li' items with the class name 'product-name'\n",
    "product_items = soup.find_all('li', class_='product-item')\n",
    "\n",
    "\n",
    "names = []\n",
    "prices = []\n",
    "\n",
    "\n",
    "for product in product_items:\n",
    "    if not product:\n",
    "        continue\n",
    "\n",
    "    # Find the <a> tag\n",
    "    name = product.find('a', class_=\"product-item-link\")\n",
    "    if name:\n",
    "        names.append(name.text.strip())\n",
    "    price = product.find(\"span\", class_=\"price\")\n",
    "    if price:\n",
    "        prices.append(price.text.strip())"
   ]
  },
  {
   "cell_type": "code",
   "execution_count": null,
   "metadata": {},
   "outputs": [
    {
     "data": {
      "text/html": [
       "<div>\n",
       "<style scoped>\n",
       "    .dataframe tbody tr th:only-of-type {\n",
       "        vertical-align: middle;\n",
       "    }\n",
       "\n",
       "    .dataframe tbody tr th {\n",
       "        vertical-align: top;\n",
       "    }\n",
       "\n",
       "    .dataframe thead th {\n",
       "        text-align: right;\n",
       "    }\n",
       "</style>\n",
       "<table border=\"1\" class=\"dataframe\">\n",
       "  <thead>\n",
       "    <tr style=\"text-align: right;\">\n",
       "      <th></th>\n",
       "      <th>product_names</th>\n",
       "      <th>prices</th>\n",
       "    </tr>\n",
       "  </thead>\n",
       "  <tbody>\n",
       "    <tr>\n",
       "      <th>0</th>\n",
       "      <td>Tomate double concentré</td>\n",
       "      <td>3,750</td>\n",
       "    </tr>\n",
       "    <tr>\n",
       "      <th>1</th>\n",
       "      <td>Riz basmati</td>\n",
       "      <td>4,780</td>\n",
       "    </tr>\n",
       "    <tr>\n",
       "      <th>2</th>\n",
       "      <td>Boite de cookies</td>\n",
       "      <td>1,100</td>\n",
       "    </tr>\n",
       "    <tr>\n",
       "      <th>3</th>\n",
       "      <td>Lot 2 pots opaque</td>\n",
       "      <td>1,150</td>\n",
       "    </tr>\n",
       "    <tr>\n",
       "      <th>4</th>\n",
       "      <td>Tasse en plastique</td>\n",
       "      <td>1,900</td>\n",
       "    </tr>\n",
       "    <tr>\n",
       "      <th>5</th>\n",
       "      <td>Lot de 3 boites de conservation en plastique</td>\n",
       "      <td>2,240</td>\n",
       "    </tr>\n",
       "    <tr>\n",
       "      <th>6</th>\n",
       "      <td>Bol</td>\n",
       "      <td>2,790</td>\n",
       "    </tr>\n",
       "    <tr>\n",
       "      <th>7</th>\n",
       "      <td>Lampe led</td>\n",
       "      <td>2,980</td>\n",
       "    </tr>\n",
       "    <tr>\n",
       "      <th>8</th>\n",
       "      <td>Boite de conservation en verre</td>\n",
       "      <td>2,990</td>\n",
       "    </tr>\n",
       "    <tr>\n",
       "      <th>9</th>\n",
       "      <td>Tasse en verre coloré avec paille</td>\n",
       "      <td>2,990</td>\n",
       "    </tr>\n",
       "    <tr>\n",
       "      <th>10</th>\n",
       "      <td>Boite de rangement</td>\n",
       "      <td>2,990</td>\n",
       "    </tr>\n",
       "    <tr>\n",
       "      <th>11</th>\n",
       "      <td>Boite de conservation en verre</td>\n",
       "      <td>3,490</td>\n",
       "    </tr>\n",
       "    <tr>\n",
       "      <th>12</th>\n",
       "      <td>Presse agrume manuelle</td>\n",
       "      <td>3,880</td>\n",
       "    </tr>\n",
       "    <tr>\n",
       "      <th>13</th>\n",
       "      <td>Boite de conservation en plastique</td>\n",
       "      <td>3,990</td>\n",
       "    </tr>\n",
       "    <tr>\n",
       "      <th>14</th>\n",
       "      <td>Boite de conservation</td>\n",
       "      <td>4,900</td>\n",
       "    </tr>\n",
       "    <tr>\n",
       "      <th>15</th>\n",
       "      <td>Boite de conservation en plastique</td>\n",
       "      <td>4,990</td>\n",
       "    </tr>\n",
       "    <tr>\n",
       "      <th>16</th>\n",
       "      <td>Pince à salade</td>\n",
       "      <td>5,000</td>\n",
       "    </tr>\n",
       "    <tr>\n",
       "      <th>17</th>\n",
       "      <td>Pince à salade</td>\n",
       "      <td>5,000</td>\n",
       "    </tr>\n",
       "    <tr>\n",
       "      <th>18</th>\n",
       "      <td>Lot de 3 entonnoir</td>\n",
       "      <td>5,000</td>\n",
       "    </tr>\n",
       "    <tr>\n",
       "      <th>19</th>\n",
       "      <td>Trancheuse à oeuf en acier inoxydable</td>\n",
       "      <td>5,000</td>\n",
       "    </tr>\n",
       "  </tbody>\n",
       "</table>\n",
       "</div>"
      ],
      "text/plain": [
       "                                   product_names prices\n",
       "0                        Tomate double concentré  3,750\n",
       "1                                    Riz basmati  4,780\n",
       "2                               Boite de cookies  1,100\n",
       "3                              Lot 2 pots opaque  1,150\n",
       "4                             Tasse en plastique  1,900\n",
       "5   Lot de 3 boites de conservation en plastique  2,240\n",
       "6                                            Bol  2,790\n",
       "7                                      Lampe led  2,980\n",
       "8                 Boite de conservation en verre  2,990\n",
       "9              Tasse en verre coloré avec paille  2,990\n",
       "10                            Boite de rangement  2,990\n",
       "11                Boite de conservation en verre  3,490\n",
       "12                        Presse agrume manuelle  3,880\n",
       "13            Boite de conservation en plastique  3,990\n",
       "14                         Boite de conservation  4,900\n",
       "15            Boite de conservation en plastique  4,990\n",
       "16                                Pince à salade  5,000\n",
       "17                                Pince à salade  5,000\n",
       "18                            Lot de 3 entonnoir  5,000\n",
       "19         Trancheuse à oeuf en acier inoxydable  5,000"
      ]
     },
     "execution_count": 14,
     "metadata": {},
     "output_type": "execute_result"
    }
   ],
   "source": [
    "#Convert to pandas dataframe\n",
    "data = {\"product_names\":names, \"prices\":prices}\n",
    "df = pd.DataFrame(data)\n",
    "\n",
    "df.head(20)"
   ]
  },
  {
   "cell_type": "code",
   "execution_count": 13,
   "metadata": {},
   "outputs": [
    {
     "name": "stdout",
     "output_type": "stream",
     "text": [
      "<class 'pandas.core.frame.DataFrame'>\n",
      "RangeIndex: 266 entries, 0 to 265\n",
      "Data columns (total 2 columns):\n",
      " #   Column         Non-Null Count  Dtype \n",
      "---  ------         --------------  ----- \n",
      " 0   product_names  266 non-null    object\n",
      " 1   prices         266 non-null    object\n",
      "dtypes: object(2)\n",
      "memory usage: 4.3+ KB\n"
     ]
    }
   ],
   "source": [
    "df.info()"
   ]
  },
  {
   "cell_type": "markdown",
   "metadata": {},
   "source": [
    "### Data Cleaning Steps\n",
    "\n",
    "- Checking for missing values\n",
    "- Remove commas from the prices column"
   ]
  },
  {
   "cell_type": "code",
   "execution_count": 15,
   "metadata": {},
   "outputs": [
    {
     "data": {
      "text/plain": [
       "product_names    0\n",
       "prices           0\n",
       "dtype: int64"
      ]
     },
     "execution_count": 15,
     "metadata": {},
     "output_type": "execute_result"
    }
   ],
   "source": [
    "df.isnull().sum()"
   ]
  },
  {
   "cell_type": "code",
   "execution_count": null,
   "metadata": {},
   "outputs": [
    {
     "data": {
      "text/html": [
       "<div>\n",
       "<style scoped>\n",
       "    .dataframe tbody tr th:only-of-type {\n",
       "        vertical-align: middle;\n",
       "    }\n",
       "\n",
       "    .dataframe tbody tr th {\n",
       "        vertical-align: top;\n",
       "    }\n",
       "\n",
       "    .dataframe thead th {\n",
       "        text-align: right;\n",
       "    }\n",
       "</style>\n",
       "<table border=\"1\" class=\"dataframe\">\n",
       "  <thead>\n",
       "    <tr style=\"text-align: right;\">\n",
       "      <th></th>\n",
       "      <th>product_names</th>\n",
       "      <th>prices</th>\n",
       "    </tr>\n",
       "  </thead>\n",
       "  <tbody>\n",
       "    <tr>\n",
       "      <th>0</th>\n",
       "      <td>Tomate double concentré</td>\n",
       "      <td>3750</td>\n",
       "    </tr>\n",
       "    <tr>\n",
       "      <th>1</th>\n",
       "      <td>Riz basmati</td>\n",
       "      <td>4780</td>\n",
       "    </tr>\n",
       "  </tbody>\n",
       "</table>\n",
       "</div>"
      ],
      "text/plain": [
       "             product_names  prices\n",
       "0  Tomate double concentré    3750\n",
       "1              Riz basmati    4780"
      ]
     },
     "execution_count": 20,
     "metadata": {},
     "output_type": "execute_result"
    }
   ],
   "source": [
    "# Remove commas from the 'prices' column and convert it to integer\n",
    "df['prices'] = df['prices'].str.replace(',', '')\n",
    "\n",
    "# Display the first 2 rows of the dataframe to verify changes\n",
    "df.head(2)"
   ]
  },
  {
   "cell_type": "markdown",
   "metadata": {},
   "source": [
    "### Data Transformation\n",
    "\n",
    "- Convert price data into numerical formats for analysis.\n",
    "\n"
   ]
  },
  {
   "cell_type": "code",
   "execution_count": 28,
   "metadata": {},
   "outputs": [],
   "source": [
    "#change datatype of price column from string to int\n",
    "df['prices'] = df['prices'].astype(\"int64\")"
   ]
  },
  {
   "cell_type": "markdown",
   "metadata": {},
   "source": [
    "### Data Analysis:\n",
    "\n",
    "\n",
    "- Identify average pricing within each product category.\n",
    "- Detect seasonal or promotional pricing patterns.\n",
    "- Assess product availability trends over time."
   ]
  },
  {
   "cell_type": "markdown",
   "metadata": {},
   "source": [
    "There was no categories available in the website scraped, and so therefore this analysis cannot be conducted"
   ]
  },
  {
   "cell_type": "markdown",
   "metadata": {},
   "source": []
  }
 ],
 "metadata": {
  "kernelspec": {
   "display_name": "base",
   "language": "python",
   "name": "python3"
  },
  "language_info": {
   "codemirror_mode": {
    "name": "ipython",
    "version": 3
   },
   "file_extension": ".py",
   "mimetype": "text/x-python",
   "name": "python",
   "nbconvert_exporter": "python",
   "pygments_lexer": "ipython3",
   "version": "3.12.8"
  }
 },
 "nbformat": 4,
 "nbformat_minor": 2
}
