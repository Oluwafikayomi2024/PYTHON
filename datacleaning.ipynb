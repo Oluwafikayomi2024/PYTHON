{
 "cells": [
  {
   "cell_type": "code",
   "execution_count": 1,
   "id": "0c3956de-c7db-4ca3-ae11-1877c07edadf",
   "metadata": {},
   "outputs": [],
   "source": [
    "import pandas as pd"
   ]
  },
  {
   "cell_type": "code",
   "execution_count": 4,
   "id": "fe70d533-78a3-4fce-8557-900140ba38c3",
   "metadata": {},
   "outputs": [
    {
     "name": "stdout",
     "output_type": "stream",
     "text": [
      "    Name Department  Age  Gender  Salary  Experience\n",
      "0   John         IT   30    Male   50000           3\n",
      "1   Mary  Marketing   40  Female   60000           7\n",
      "2    Bob      Sales   25    Male   45000           2\n",
      "3  Sarah         IT   35  Female   55000           5\n",
      "4    Tom    Finance   45    Male   70000          10\n",
      "5   Lisa  Marketing   28  Female   55000           4\n"
     ]
    }
   ],
   "source": [
    "# Create the employee dataframe\n",
    "data = {\n",
    "    'Name': ['John', 'Mary', 'Bob', 'Sarah', 'Tom', 'Lisa'],\n",
    "    'Department': ['IT', 'Marketing', 'Sales', 'IT', 'Finance', 'Marketing'],\n",
    "    'Age': [30, 40, 25, 35, 45, 28],\n",
    "    'Gender': ['Male', 'Female', 'Male', 'Female', 'Male', 'Female'],\n",
    "    'Salary': [50000, 60000, 45000, 55000, 70000, 55000],\n",
    "    'Experience': [3, 7, 2, 5, 10, 4]\n",
    "}\n",
    "\n",
    "employee_df = pd.DataFrame(data)\n",
    "print(employee_df)"
   ]
  },
  {
   "cell_type": "code",
   "execution_count": 5,
   "id": "621b5262-065c-40cb-a08d-005daa71d287",
   "metadata": {},
   "outputs": [
    {
     "name": "stdout",
     "output_type": "stream",
     "text": [
      "First 3 rows using iloc:\n",
      "    Name Department  Age  Gender  Salary  Experience\n",
      "0  John         IT   30    Male   50000           3\n",
      "1  Mary  Marketing   40  Female   60000           7\n",
      "2   Bob      Sales   25    Male   45000           2\n"
     ]
    }
   ],
   "source": [
    "# 1. Use the iloc method to select the first 3 rows\n",
    "first_three_rows = employee_df.iloc[:3]\n",
    "print(\"First 3 rows using iloc:\\n\", first_three_rows)\n",
    "\n"
   ]
  },
  {
   "cell_type": "code",
   "execution_count": 6,
   "id": "b9c5702f-9ad6-4f3f-bc28-fa2635e8040f",
   "metadata": {},
   "outputs": [
    {
     "name": "stdout",
     "output_type": "stream",
     "text": [
      "\n",
      "Rows where Department is 'Marketing' using loc:\n",
      "    Name Department  Age  Gender  Salary  Experience\n",
      "1  Mary  Marketing   40  Female   60000           7\n",
      "5  Lisa  Marketing   28  Female   55000           4\n"
     ]
    }
   ],
   "source": [
    "# 2. Use the loc method to select all rows where the Department is \"Marketing\"\n",
    "marketing_department = employee_df.loc[employee_df['Department'] == 'Marketing']\n",
    "print(\"\\nRows where Department is 'Marketing' using loc:\\n\", marketing_department)\n"
   ]
  },
  {
   "cell_type": "code",
   "execution_count": 7,
   "id": "908a3bbf-71fe-4b14-88fa-ae08278b3e86",
   "metadata": {},
   "outputs": [
    {
     "name": "stdout",
     "output_type": "stream",
     "text": [
      "\n",
      "Age and Gender for the first 4 rows using iloc:\n",
      "    Age  Gender\n",
      "0   30    Male\n",
      "1   40  Female\n",
      "2   25    Male\n",
      "3   35  Female\n"
     ]
    }
   ],
   "source": [
    "# 3. Use the iloc method to select the Age and Gender columns for the first 4 rows\n",
    "age_gender_first_four_rows = employee_df.iloc[:4, [2, 3]]  # Columns 2 (Age) and 3 (Gender)\n",
    "print(\"\\nAge and Gender for the first 4 rows using iloc:\\n\", age_gender_first_four_rows)"
   ]
  },
  {
   "cell_type": "code",
   "execution_count": 8,
   "id": "c7744c96-4774-48ab-b89b-42a348a5a5b0",
   "metadata": {},
   "outputs": [
    {
     "name": "stdout",
     "output_type": "stream",
     "text": [
      "\n",
      "Salary and Experience for Male employees using loc:\n",
      "    Salary  Experience\n",
      "0   50000           3\n",
      "2   45000           2\n",
      "4   70000          10\n"
     ]
    }
   ],
   "source": [
    "# 4. Use the loc method to select the Salary and Experience columns for all rows where the Gender is \"Male\"\n",
    "male_salary_experience = employee_df.loc[employee_df['Gender'] == 'Male', ['Salary', 'Experience']]\n",
    "print(\"\\nSalary and Experience for Male employees using loc:\\n\", male_salary_experience)\n"
   ]
  },
  {
   "cell_type": "code",
   "execution_count": null,
   "id": "b22f56ff-61d9-4abf-b4c3-af6d84e5e482",
   "metadata": {},
   "outputs": [],
   "source": []
  }
 ],
 "metadata": {
  "kernelspec": {
   "display_name": "Python 3 (ipykernel)",
   "language": "python",
   "name": "python3"
  },
  "language_info": {
   "codemirror_mode": {
    "name": "ipython",
    "version": 3
   },
   "file_extension": ".py",
   "mimetype": "text/x-python",
   "name": "python",
   "nbconvert_exporter": "python",
   "pygments_lexer": "ipython3",
   "version": "3.12.7"
  }
 },
 "nbformat": 4,
 "nbformat_minor": 5
}
